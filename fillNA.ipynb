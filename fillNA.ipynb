{
 "cells": [
  {
   "cell_type": "code",
   "execution_count": 3,
   "metadata": {},
   "outputs": [],
   "source": [
    "import numpy as np\n",
    "from scipy.ndimage import generic_filter"
   ]
  },
  {
   "cell_type": "code",
   "execution_count": 4,
   "metadata": {},
   "outputs": [],
   "source": [
    "rvi_data = np.load('/mnt/storage/huyekgis/brios/data2/rvi_timeseries.npy')\n",
    "vh_data = np.load('/mnt/storage/huyekgis/brios/data2/vh_timeseries.npy')"
   ]
  },
  {
   "cell_type": "code",
   "execution_count": 5,
   "metadata": {},
   "outputs": [
    {
     "data": {
      "text/plain": [
       "(342, 470, 46)"
      ]
     },
     "execution_count": 5,
     "metadata": {},
     "output_type": "execute_result"
    }
   ],
   "source": [
    "rvi_data.shape"
   ]
  },
  {
   "cell_type": "code",
   "execution_count": 6,
   "metadata": {},
   "outputs": [],
   "source": [
    "def nanmean_filter(values):\n",
    "    valid_values = values[~np.isnan(values)]\n",
    "    return np.mean(valid_values) if valid_values.size > 0 else np.nan"
   ]
  },
  {
   "cell_type": "code",
   "execution_count": 7,
   "metadata": {},
   "outputs": [],
   "source": [
    "data = rvi_data[...,1]"
   ]
  },
  {
   "cell_type": "code",
   "execution_count": 8,
   "metadata": {},
   "outputs": [],
   "source": [
    "filled_data = data.copy()\n",
    "nan_positions = np.isnan(np.array(filled_data))\n",
    "filled_data[nan_positions] = generic_filter(filled_data, nanmean_filter, size=7)[nan_positions]\n"
   ]
  },
  {
   "cell_type": "code",
   "execution_count": 9,
   "metadata": {},
   "outputs": [],
   "source": [
    "from tqdm import tqdm"
   ]
  },
  {
   "cell_type": "code",
   "execution_count": 10,
   "metadata": {},
   "outputs": [
    {
     "name": "stderr",
     "output_type": "stream",
     "text": [
      "filling rvi dataset:   :   0%|          | 0/46 [00:00<?, ?it/s]"
     ]
    },
    {
     "name": "stderr",
     "output_type": "stream",
     "text": [
      "filling rvi dataset:   : 100%|██████████| 46/46 [00:31<00:00,  1.48it/s]\n"
     ]
    }
   ],
   "source": [
    "rvi_filled_data = rvi_data.copy()\n",
    "for i in tqdm(range(rvi_data.shape[2]), desc='filling rvi dataset:   '):\n",
    "    nan_pos = np.isnan(rvi_filled_data[...,i])\n",
    "    rvi_filled_data[nan_pos,i] = generic_filter(rvi_filled_data[...,i], nanmean_filter, size=7)[nan_pos]"
   ]
  },
  {
   "cell_type": "code",
   "execution_count": 17,
   "metadata": {},
   "outputs": [
    {
     "name": "stderr",
     "output_type": "stream",
     "text": [
      "filling vh dataset:   : 100%|██████████| 46/46 [00:33<00:00,  1.37it/s]\n"
     ]
    }
   ],
   "source": [
    "vh_filled_data = vh_data.copy()\n",
    "for i in tqdm(range(vh_data.shape[2]), desc='filling vh dataset:   '):\n",
    "    nan_pos_vh = np.isnan(vh_filled_data[...,i])\n",
    "    vh_filled_data[nan_pos_vh,i] = generic_filter(vh_filled_data[...,i], nanmean_filter, size=7)[nan_pos_vh]"
   ]
  },
  {
   "cell_type": "code",
   "execution_count": null,
   "metadata": {},
   "outputs": [],
   "source": []
  },
  {
   "cell_type": "code",
   "execution_count": 18,
   "metadata": {},
   "outputs": [
    {
     "name": "stdout",
     "output_type": "stream",
     "text": [
      "0\n"
     ]
    }
   ],
   "source": [
    "cnt = 0\n",
    "for x in range(vh_filled_data.shape[0]):\n",
    "    for y in range(vh_filled_data.shape[1]):\n",
    "        for t in range(vh_filled_data.shape[2]):\n",
    "            if np.isnan(vh_filled_data[x, y, t]):\n",
    "                cnt += 1\n",
    "            \n",
    "print(cnt)"
   ]
  },
  {
   "cell_type": "code",
   "execution_count": 19,
   "metadata": {},
   "outputs": [],
   "source": [
    "np.save('/mnt/storage/huyekgis/brios/dataTrain/vh_full.npy', vh_filled_data)"
   ]
  }
 ],
 "metadata": {
  "kernelspec": {
   "display_name": "myenv",
   "language": "python",
   "name": "python3"
  },
  "language_info": {
   "codemirror_mode": {
    "name": "ipython",
    "version": 3
   },
   "file_extension": ".py",
   "mimetype": "text/x-python",
   "name": "python",
   "nbconvert_exporter": "python",
   "pygments_lexer": "ipython3",
   "version": "3.10.12"
  }
 },
 "nbformat": 4,
 "nbformat_minor": 2
}
